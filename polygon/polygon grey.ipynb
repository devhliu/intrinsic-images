{
 "cells": [
  {
   "cell_type": "code",
   "execution_count": 5,
   "metadata": {},
   "outputs": [],
   "source": [
    "import re\n",
    "import numpy as np\n",
    "from bs4 import BeautifulSoup"
   ]
  },
  {
   "cell_type": "code",
   "execution_count": 6,
   "metadata": {},
   "outputs": [],
   "source": [
    "fname = 'polygon75.html'"
   ]
  },
  {
   "cell_type": "code",
   "execution_count": 24,
   "metadata": {},
   "outputs": [
    {
     "name": "stdout",
     "output_type": "stream",
     "text": [
      "<path d=\"M1506.5107300778582,2400.0 L1506.5107300778582,2400.0 L1456.2002376793978,2372.4090382213617 L951.2935697993132,2299.114241503234 L1220.7764341882612,2400.0\" style=\"fill: rgb(16, 239, 15)\"></path>\n",
      "after <path d=\"M1506.5107300778582,2400.0 L1506.5107300778582,2400.0 L1456.2002376793978,2372.4090382213617 L951.2935697993132,2299.114241503234 L1220.7764341882612,2400.0\" style=\"fill: rgb(16, 239, 15)\"></path>\n"
     ]
    },
    {
     "name": "stderr",
     "output_type": "stream",
     "text": [
      "/Users/Mike/anaconda3/lib/python3.6/site-packages/bs4/__init__.py:181: UserWarning: No parser was explicitly specified, so I'm using the best available HTML parser for this system (\"lxml\"). This usually isn't a problem, but if you run this code on another system, or in a different virtual environment, it may use a different parser and behave differently.\n",
      "\n",
      "The code that caused this warning is on line 193 of the file /Users/Mike/anaconda3/lib/python3.6/runpy.py. To get rid of this warning, change code that looks like this:\n",
      "\n",
      " BeautifulSoup(YOUR_MARKUP})\n",
      "\n",
      "to this:\n",
      "\n",
      " BeautifulSoup(YOUR_MARKUP, \"lxml\")\n",
      "\n",
      "  markup_type=markup_type))\n"
     ]
    }
   ],
   "source": [
    "with open(fname, \"r+\") as f:\n",
    "\n",
    "    new_f = f.read()\n",
    "\n",
    "    # select all the path tags\n",
    "    soup = BeautifulSoup(new_f)\n",
    "    paths = soup.find_all('path')\n",
    "\n",
    "    print(paths[4])\n",
    "\n",
    "    for p in paths:\n",
    "        # select the fill attribute\n",
    "        style = p[\"style\"]\n",
    "\n",
    "        _, _, fill_style = style.partition(\": \")\n",
    "\n",
    "\n",
    "        # if white, leave as white\n",
    "        if fill_style == \"white\":\n",
    "            continue\n",
    "        else:\n",
    "            # assuming rgb(x, y, z)\n",
    "            \n",
    "            rgb = [int(x) for x in re.findall('\\d+', fill_style)]\n",
    "            val = str(int(0.3 * rgb[0] + 0.59 * rgb[1] + 0.11 * rgb[2]))\n",
    "            re.sub('\\d+', val, fill_style)\n",
    "            # else if rgb\n",
    "            # grayscale rgb = 0.3 * R + 0.59 * G + 0.11 * B\n",
    "\n",
    "\n",
    "        # save to svg\n",
    "\n",
    "        # convert the resultant svg to png and save somewhere else\n",
    "    # after\n",
    "    print('after', paths[4])"
   ]
  },
  {
   "cell_type": "code",
   "execution_count": null,
   "metadata": {},
   "outputs": [],
   "source": []
  }
 ],
 "metadata": {
  "kernelspec": {
   "display_name": "Python 3",
   "language": "python",
   "name": "python3"
  },
  "language_info": {
   "codemirror_mode": {
    "name": "ipython",
    "version": 3
   },
   "file_extension": ".py",
   "mimetype": "text/x-python",
   "name": "python",
   "nbconvert_exporter": "python",
   "pygments_lexer": "ipython3",
   "version": "3.6.5"
  }
 },
 "nbformat": 4,
 "nbformat_minor": 2
}
