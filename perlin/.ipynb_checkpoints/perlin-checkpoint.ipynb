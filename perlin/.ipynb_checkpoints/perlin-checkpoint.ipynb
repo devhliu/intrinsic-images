{
 "cells": [
  {
   "cell_type": "code",
   "execution_count": 1,
   "metadata": {},
   "outputs": [],
   "source": [
    "import numpy as np\n",
    "import matplotlib.pyplot as plt\n",
    "np.random.seed(42)"
   ]
  },
  {
   "cell_type": "markdown",
   "metadata": {},
   "source": [
    "### Perlin Noise\n",
    "1. Gride Definition\n",
    "2. Dot product\n",
    "3. Interpolation"
   ]
  },
  {
   "cell_type": "markdown",
   "metadata": {},
   "source": [
    "### Grid definition"
   ]
  },
  {
   "cell_type": "code",
   "execution_count": 2,
   "metadata": {},
   "outputs": [],
   "source": [
    "IMAGE_WIDTH = 500\n",
    "IMAGE_HEIGHT = 500"
   ]
  },
  {
   "cell_type": "code",
   "execution_count": 3,
   "metadata": {},
   "outputs": [],
   "source": [
    "# pixels per grid\n",
    "grid_width = 5\n",
    "grid_height = 5\n",
    "grid_size = (grid_height, grid_width)"
   ]
  },
  {
   "cell_type": "code",
   "execution_count": 4,
   "metadata": {},
   "outputs": [
    {
     "name": "stdout",
     "output_type": "stream",
     "text": [
      "100.0 grids in a row\n",
      "100.0 grids in a col\n"
     ]
    }
   ],
   "source": [
    "print(IMAGE_HEIGHT / grid_height, 'grids in a row')\n",
    "print(IMAGE_WIDTH / grid_width, 'grids in a col')\n",
    "\n",
    "grids_per_row = int(IMAGE_HEIGHT / grid_height)\n",
    "grids_per_col = int(IMAGE_WIDTH / grid_width)"
   ]
  },
  {
   "cell_type": "markdown",
   "metadata": {},
   "source": [
    "### Dot product"
   ]
  },
  {
   "cell_type": "code",
   "execution_count": 5,
   "metadata": {},
   "outputs": [
    {
     "name": "stdout",
     "output_type": "stream",
     "text": [
      "total number of vectors: 10201.0\n"
     ]
    }
   ],
   "source": [
    "# assert(IMAGE_HEIGHT / grid_height == IMAGE_WIDTH / grid_width)\n",
    "print('total number of vectors:', (IMAGE_HEIGHT / grid_height + 1) * (IMAGE_WIDTH / grid_width + 1))\n",
    "\n",
    "vec_shape = (int(IMAGE_WIDTH / grid_width + 1), int(IMAGE_WIDTH / grid_width + 1))\n",
    "\n",
    "# thetas = np.random.uniform(size=vec_shape) * 360 \n",
    "thetas = np.random.choice([45, 135, 225, 315], size=vec_shape)"
   ]
  },
  {
   "cell_type": "code",
   "execution_count": null,
   "metadata": {},
   "outputs": [],
   "source": []
  },
  {
   "cell_type": "code",
   "execution_count": 6,
   "metadata": {},
   "outputs": [],
   "source": [
    "def pol2cart(phi, rho=1):\n",
    "    x = rho * np.cos(phi)\n",
    "    y = rho * np.sin(phi)\n",
    "    return np.array([x, y])"
   ]
  },
  {
   "cell_type": "code",
   "execution_count": 7,
   "metadata": {},
   "outputs": [
    {
     "name": "stdout",
     "output_type": "stream",
     "text": [
      "(101, 101, 2)\n"
     ]
    }
   ],
   "source": [
    "vecs = np.array([pol2cart(t) for t in np.nditer(thetas)])\n",
    "vecs = vecs.reshape((*vec_shape, 2))\n",
    "# vecs is a 2d matrix where each entry represents the vector at that point\n",
    "print(vecs.shape)"
   ]
  },
  {
   "cell_type": "code",
   "execution_count": 8,
   "metadata": {},
   "outputs": [],
   "source": [
    "# helper function that returns the 4 position vectors \n",
    "# row, col are index values\n",
    "# grid size is a 2d tuple of dims of grid\n",
    "def get_pos_vec(row, col, grid_size):\n",
    "    x = np.linspace(0, 1, grid_size[0])[row]\n",
    "    y = np.linspace(0, 1, grid_size[1])[col]\n",
    "    \n",
    "    # 4 pos vectors, \n",
    "    # order: top left, top right, bottom left, bottom right\n",
    "    a = (x, y)\n",
    "    b = (x-1, y)\n",
    "    c = (x, y-1)\n",
    "    d = (x-1, y)\n",
    "    \n",
    "    return np.array([a, b, c, d])"
   ]
  },
  {
   "cell_type": "code",
   "execution_count": 9,
   "metadata": {},
   "outputs": [
    {
     "data": {
      "text/plain": [
       "array([[ 0.33333333,  0.5       ],\n",
       "       [-0.66666667,  0.5       ],\n",
       "       [ 0.33333333, -0.5       ],\n",
       "       [-0.66666667,  0.5       ]])"
      ]
     },
     "execution_count": 9,
     "metadata": {},
     "output_type": "execute_result"
    }
   ],
   "source": [
    "get_pos_vec(1, 2, (4,5))"
   ]
  },
  {
   "cell_type": "code",
   "execution_count": null,
   "metadata": {},
   "outputs": [],
   "source": []
  },
  {
   "cell_type": "code",
   "execution_count": 10,
   "metadata": {},
   "outputs": [],
   "source": [
    "# helper function that returns the 4 gradient vector of a given grid\n",
    "# row and col are index values\n",
    "# vecs is a 2d matrix where each entry represents the vector at that point (height, width)\n",
    "def get_grad_vec(row, col, vecs, vec_shape, grid_size):\n",
    "    \n",
    "    row = int(row / grid_size[0])\n",
    "    col = int(col / grid_size[1])\n",
    "    \n",
    "#     print(row, col)\n",
    "    \n",
    "    assert(row < vec_shape[0] and col < vec_shape[1])\n",
    "    \n",
    "    # 4 grad vectors, \n",
    "    # order: top left, top right, bottom left, bottom right\n",
    "    a = vecs[row][col]\n",
    "    b = vecs[row][col + 1]\n",
    "    c = vecs[row + 1][col]\n",
    "    d = vecs[row + 1][col + 1]\n",
    "    \n",
    "    return np.array([a, b, c, d])"
   ]
  },
  {
   "cell_type": "code",
   "execution_count": 11,
   "metadata": {},
   "outputs": [
    {
     "data": {
      "text/plain": [
       "array([[ 0.36731937, -0.93009488],\n",
       "       [ 0.6669156 ,  0.74513326],\n",
       "       [-0.99608784,  0.08836869],\n",
       "       [-0.99608784,  0.08836869]])"
      ]
     },
     "execution_count": 11,
     "metadata": {},
     "output_type": "execute_result"
    }
   ],
   "source": [
    "get_grad_vec(0, 0, vecs, vec_shape, (grid_height, grid_width))"
   ]
  },
  {
   "cell_type": "code",
   "execution_count": 12,
   "metadata": {},
   "outputs": [
    {
     "name": "stdout",
     "output_type": "stream",
     "text": [
      "-0.34260764975884767\n",
      "-0.07204376798452183\n",
      "-0.3762136214323957\n",
      "0.7082428998127908\n"
     ]
    }
   ],
   "source": [
    "temp1 = get_pos_vec(1, 2, (4,5))\n",
    "temp2 = get_grad_vec(0, 0, vecs, vec_shape, grid_size)\n",
    "\n",
    "for i, j in zip(temp1, temp2):\n",
    "    print(np.dot(i, j))"
   ]
  },
  {
   "cell_type": "code",
   "execution_count": null,
   "metadata": {},
   "outputs": [],
   "source": []
  },
  {
   "cell_type": "markdown",
   "metadata": {},
   "source": [
    "### interpolation"
   ]
  },
  {
   "cell_type": "code",
   "execution_count": 13,
   "metadata": {},
   "outputs": [],
   "source": [
    "# helper function that interpolates the 4 values of a dot product\n",
    "def lin_interp(fracX, fracY, dot_prods):\n",
    "    a, b, c, d = tuple(dot_prods)\n",
    "    ab = a + fracX * (b-a)\n",
    "    cd = c + fracY * (d-c)\n",
    "    val = ab + fracY * (cd - ab)\n",
    "    \n",
    "    return val"
   ]
  },
  {
   "cell_type": "code",
   "execution_count": null,
   "metadata": {},
   "outputs": [],
   "source": []
  },
  {
   "cell_type": "code",
   "execution_count": null,
   "metadata": {},
   "outputs": [],
   "source": []
  },
  {
   "cell_type": "code",
   "execution_count": null,
   "metadata": {},
   "outputs": [],
   "source": []
  },
  {
   "cell_type": "code",
   "execution_count": null,
   "metadata": {},
   "outputs": [],
   "source": []
  },
  {
   "cell_type": "code",
   "execution_count": 14,
   "metadata": {
    "scrolled": true
   },
   "outputs": [
    {
     "ename": "KeyboardInterrupt",
     "evalue": "",
     "output_type": "error",
     "traceback": [
      "\u001b[0;31m--------------------------------------------------------\u001b[0m",
      "\u001b[0;31mKeyboardInterrupt\u001b[0m      Traceback (most recent call last)",
      "\u001b[0;32m<ipython-input-14-ffb42503b292>\u001b[0m in \u001b[0;36m<module>\u001b[0;34m()\u001b[0m\n\u001b[1;32m      8\u001b[0m         \u001b[0;32mfor\u001b[0m \u001b[0mi\u001b[0m \u001b[0;32min\u001b[0m \u001b[0mrange\u001b[0m\u001b[0;34m(\u001b[0m\u001b[0mgrid_height\u001b[0m\u001b[0;34m)\u001b[0m\u001b[0;34m:\u001b[0m\u001b[0;34m\u001b[0m\u001b[0m\n\u001b[1;32m      9\u001b[0m             \u001b[0;32mfor\u001b[0m \u001b[0mj\u001b[0m \u001b[0;32min\u001b[0m \u001b[0mrange\u001b[0m\u001b[0;34m(\u001b[0m\u001b[0mgrid_width\u001b[0m\u001b[0;34m)\u001b[0m\u001b[0;34m:\u001b[0m\u001b[0;34m\u001b[0m\u001b[0m\n\u001b[0;32m---> 10\u001b[0;31m                 \u001b[0mpos_vec\u001b[0m \u001b[0;34m=\u001b[0m \u001b[0mget_pos_vec\u001b[0m\u001b[0;34m(\u001b[0m\u001b[0mi\u001b[0m\u001b[0;34m,\u001b[0m \u001b[0mj\u001b[0m\u001b[0;34m,\u001b[0m \u001b[0;34m(\u001b[0m\u001b[0mgrid_height\u001b[0m\u001b[0;34m,\u001b[0m \u001b[0mgrid_width\u001b[0m\u001b[0;34m)\u001b[0m\u001b[0;34m)\u001b[0m\u001b[0;34m\u001b[0m\u001b[0m\n\u001b[0m\u001b[1;32m     11\u001b[0m                 \u001b[0mfracX\u001b[0m\u001b[0;34m,\u001b[0m \u001b[0mfracY\u001b[0m \u001b[0;34m=\u001b[0m \u001b[0mpos_vec\u001b[0m\u001b[0;34m[\u001b[0m\u001b[0;36m0\u001b[0m\u001b[0;34m]\u001b[0m\u001b[0;34m\u001b[0m\u001b[0m\n\u001b[1;32m     12\u001b[0m \u001b[0;34m\u001b[0m\u001b[0m\n",
      "\u001b[0;32m<ipython-input-8-5b6bb6451cdf>\u001b[0m in \u001b[0;36mget_pos_vec\u001b[0;34m(row, col, grid_size)\u001b[0m\n\u001b[1;32m      3\u001b[0m \u001b[0;31m# grid size is a 2d tuple of dims of grid\u001b[0m\u001b[0;34m\u001b[0m\u001b[0;34m\u001b[0m\u001b[0m\n\u001b[1;32m      4\u001b[0m \u001b[0;32mdef\u001b[0m \u001b[0mget_pos_vec\u001b[0m\u001b[0;34m(\u001b[0m\u001b[0mrow\u001b[0m\u001b[0;34m,\u001b[0m \u001b[0mcol\u001b[0m\u001b[0;34m,\u001b[0m \u001b[0mgrid_size\u001b[0m\u001b[0;34m)\u001b[0m\u001b[0;34m:\u001b[0m\u001b[0;34m\u001b[0m\u001b[0m\n\u001b[0;32m----> 5\u001b[0;31m     \u001b[0mx\u001b[0m \u001b[0;34m=\u001b[0m \u001b[0mnp\u001b[0m\u001b[0;34m.\u001b[0m\u001b[0mlinspace\u001b[0m\u001b[0;34m(\u001b[0m\u001b[0;36m0\u001b[0m\u001b[0;34m,\u001b[0m \u001b[0;36m1\u001b[0m\u001b[0;34m,\u001b[0m \u001b[0mgrid_size\u001b[0m\u001b[0;34m[\u001b[0m\u001b[0;36m0\u001b[0m\u001b[0;34m]\u001b[0m\u001b[0;34m)\u001b[0m\u001b[0;34m[\u001b[0m\u001b[0mrow\u001b[0m\u001b[0;34m]\u001b[0m\u001b[0;34m\u001b[0m\u001b[0m\n\u001b[0m\u001b[1;32m      6\u001b[0m     \u001b[0my\u001b[0m \u001b[0;34m=\u001b[0m \u001b[0mnp\u001b[0m\u001b[0;34m.\u001b[0m\u001b[0mlinspace\u001b[0m\u001b[0;34m(\u001b[0m\u001b[0;36m0\u001b[0m\u001b[0;34m,\u001b[0m \u001b[0;36m1\u001b[0m\u001b[0;34m,\u001b[0m \u001b[0mgrid_size\u001b[0m\u001b[0;34m[\u001b[0m\u001b[0;36m1\u001b[0m\u001b[0;34m]\u001b[0m\u001b[0;34m)\u001b[0m\u001b[0;34m[\u001b[0m\u001b[0mcol\u001b[0m\u001b[0;34m]\u001b[0m\u001b[0;34m\u001b[0m\u001b[0m\n\u001b[1;32m      7\u001b[0m \u001b[0;34m\u001b[0m\u001b[0m\n",
      "\u001b[0;32m~/anaconda3/lib/python3.6/site-packages/numpy/core/function_base.py\u001b[0m in \u001b[0;36mlinspace\u001b[0;34m(start, stop, num, endpoint, retstep, dtype)\u001b[0m\n\u001b[1;32m    140\u001b[0m         \u001b[0my\u001b[0m \u001b[0;34m=\u001b[0m \u001b[0my\u001b[0m \u001b[0;34m*\u001b[0m \u001b[0mdelta\u001b[0m\u001b[0;34m\u001b[0m\u001b[0m\n\u001b[1;32m    141\u001b[0m \u001b[0;34m\u001b[0m\u001b[0m\n\u001b[0;32m--> 142\u001b[0;31m     \u001b[0my\u001b[0m \u001b[0;34m+=\u001b[0m \u001b[0mstart\u001b[0m\u001b[0;34m\u001b[0m\u001b[0m\n\u001b[0m\u001b[1;32m    143\u001b[0m \u001b[0;34m\u001b[0m\u001b[0m\n\u001b[1;32m    144\u001b[0m     \u001b[0;32mif\u001b[0m \u001b[0mendpoint\u001b[0m \u001b[0;32mand\u001b[0m \u001b[0mnum\u001b[0m \u001b[0;34m>\u001b[0m \u001b[0;36m1\u001b[0m\u001b[0;34m:\u001b[0m\u001b[0;34m\u001b[0m\u001b[0m\n",
      "\u001b[0;31mKeyboardInterrupt\u001b[0m: "
     ]
    }
   ],
   "source": [
    "pixel_vals = []\n",
    "for row in range(IMAGE_HEIGHT):\n",
    "    for col in range(IMAGE_WIDTH):\n",
    "        grad_vec = get_grad_vec(row, col, vecs, vec_shape, (grid_height, grid_width))\n",
    "        \n",
    "#         print('***', row, col, '***')\n",
    "        \n",
    "        for i in range(grid_height):\n",
    "            for j in range(grid_width):\n",
    "                pos_vec = get_pos_vec(i, j, (grid_height, grid_width))\n",
    "                fracX, fracY = pos_vec[0]\n",
    "                \n",
    "                px = []\n",
    "                \n",
    "                for grad, pos in zip(grad_vec, pos_vec):\n",
    "#                     print(np.dot(grad, pos))\n",
    "                    px.append(np.dot(grad, pos))\n",
    "                val = lin_interp(fracX, fracY, px)\n",
    "                \n",
    "        pixel_vals.append(val)\n",
    "pixel_vals = np.array(pixel_vals).reshape(IMAGE_HEIGHT, IMAGE_WIDTH)"
   ]
  },
  {
   "cell_type": "code",
   "execution_count": null,
   "metadata": {},
   "outputs": [],
   "source": [
    "pixel_vals.shape"
   ]
  },
  {
   "cell_type": "code",
   "execution_count": null,
   "metadata": {},
   "outputs": [],
   "source": [
    "plt.imshow(pixel_vals, cmap='Blues')"
   ]
  },
  {
   "cell_type": "code",
   "execution_count": null,
   "metadata": {},
   "outputs": [],
   "source": [
    "plt.imshow(np.random.uniform(size=(int(IMAGE_HEIGHT/grid_height), int(IMAGE_WIDTH/grid_width))), cmap='Blues')"
   ]
  },
  {
   "cell_type": "code",
   "execution_count": null,
   "metadata": {},
   "outputs": [],
   "source": []
  }
 ],
 "metadata": {
  "kernelspec": {
   "display_name": "Python 3",
   "language": "python",
   "name": "python3"
  },
  "language_info": {
   "codemirror_mode": {
    "name": "ipython",
    "version": 3
   },
   "file_extension": ".py",
   "mimetype": "text/x-python",
   "name": "python",
   "nbconvert_exporter": "python",
   "pygments_lexer": "ipython3",
   "version": "3.6.5"
  }
 },
 "nbformat": 4,
 "nbformat_minor": 2
}
